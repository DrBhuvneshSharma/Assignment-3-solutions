{
 "cells": [
  {
   "cell_type": "markdown",
   "id": "6d40073a",
   "metadata": {},
   "source": [
    "Ans.1 \n",
    "A function is an organised block of reusable codes which is used to perform a single related action.\n",
    "Advantage: Function make program easier and shorter by reducing the need of duplicate code."
   ]
  },
  {
   "cell_type": "markdown",
   "id": "3064dc49",
   "metadata": {},
   "source": [
    "Ans.2.\n",
    " A code in a function runs when it is called."
   ]
  },
  {
   "cell_type": "code",
   "execution_count": 13,
   "id": "ee6dea32",
   "metadata": {},
   "outputs": [],
   "source": [
    "#Ans.3 'def' statement is used to define/ creat a function.\n",
    "\n",
    "def test(a,b):\n",
    "    return (a/b)\n",
    "    \n",
    "            \n",
    "    \n",
    "\n"
   ]
  },
  {
   "cell_type": "code",
   "execution_count": 14,
   "id": "a0f84782",
   "metadata": {},
   "outputs": [
    {
     "data": {
      "text/plain": [
       "2.0"
      ]
     },
     "execution_count": 14,
     "metadata": {},
     "output_type": "execute_result"
    }
   ],
   "source": [
    "test(4,2)\n"
   ]
  },
  {
   "cell_type": "markdown",
   "id": "b2df8d5a",
   "metadata": {},
   "source": [
    "so, we have created a new function by using 'def' statement."
   ]
  },
  {
   "cell_type": "markdown",
   "id": "5365da7e",
   "metadata": {},
   "source": [
    "Ans.4. Function and function call:\n",
    "Function: a function is an organized block of reussble codes whichbis used to perform a single related action.\n",
    "\n",
    "function call: A function call  moves the program execution into the function, and the function call evaluates to the function return value.\n",
    "    "
   ]
  },
  {
   "cell_type": "markdown",
   "id": "b046618b",
   "metadata": {},
   "source": [
    "Q.5. How many global scopes are there in a Python program? How many local scopes?\n",
    "\n",
    "Ans. in python, a variable a available according to the reason where it is created, this is called as scope of the variable.\n",
    "\n",
    "Globle scope :when a variable is created outside of a function and can be used by anyone, and belongs to globle scope.Thus, a variable can have nonglobal scope.\n",
    "\n",
    "local scope: a variable created inside a function belongs to local scope and cann be called only within that function, and can be accessed in a function within that function where variable was created."
   ]
  },
  {
   "cell_type": "code",
   "execution_count": 21,
   "id": "e8bce27c",
   "metadata": {},
   "outputs": [
    {
     "data": {
      "text/plain": [
       "[1, 2, 3, 3, 4]"
      ]
     },
     "execution_count": 21,
     "metadata": {},
     "output_type": "execute_result"
    }
   ],
   "source": [
    "#global scope\n",
    "l=[1,2,3,3,4]\n",
    "def test():\n",
    "    return l\n",
    "test()"
   ]
  },
  {
   "cell_type": "code",
   "execution_count": 16,
   "id": "edec5cf2",
   "metadata": {},
   "outputs": [
    {
     "data": {
      "text/plain": [
       "[1, 2, 3, 3, 4]"
      ]
     },
     "execution_count": 16,
     "metadata": {},
     "output_type": "execute_result"
    }
   ],
   "source": [
    "l"
   ]
  },
  {
   "cell_type": "code",
   "execution_count": 23,
   "id": "6723cae1",
   "metadata": {},
   "outputs": [
    {
     "data": {
      "text/plain": [
       "(78, 80, 78)"
      ]
     },
     "execution_count": 23,
     "metadata": {},
     "output_type": "execute_result"
    }
   ],
   "source": [
    "#local scope\n",
    "def test1():\n",
    "    t=(78,80,78)\n",
    "    return t\n",
    "test1()\n"
   ]
  },
  {
   "cell_type": "code",
   "execution_count": 19,
   "id": "123cfee0",
   "metadata": {},
   "outputs": [
    {
     "ename": "NameError",
     "evalue": "name 't' is not defined",
     "output_type": "error",
     "traceback": [
      "\u001b[1;31m---------------------------------------------------------------------------\u001b[0m",
      "\u001b[1;31mNameError\u001b[0m                                 Traceback (most recent call last)",
      "\u001b[1;32m~\\AppData\\Local\\Temp/ipykernel_13580/3790515489.py\u001b[0m in \u001b[0;36m<module>\u001b[1;34m\u001b[0m\n\u001b[1;32m----> 1\u001b[1;33m \u001b[0mt\u001b[0m\u001b[1;33m\u001b[0m\u001b[1;33m\u001b[0m\u001b[0m\n\u001b[0m",
      "\u001b[1;31mNameError\u001b[0m: name 't' is not defined"
     ]
    }
   ],
   "source": [
    "t"
   ]
  },
  {
   "cell_type": "code",
   "execution_count": 20,
   "id": "fa8b0e10",
   "metadata": {},
   "outputs": [],
   "source": [
    "# it sbiws that name 't' is not define, because t is crdated locally."
   ]
  },
  {
   "cell_type": "markdown",
   "id": "32573bd5",
   "metadata": {},
   "source": [
    "Q.6. What happens to variables in a local scope when the function call returns?\n",
    "\n",
    "Ans. once the function call returns, the local scope of the variable comes to an end. we can see the same in above example."
   ]
  },
  {
   "cell_type": "markdown",
   "id": "b8ebd376",
   "metadata": {},
   "source": [
    "Q.7. What is the concept of a return value? Is it possible to have a return value in an expression?\n",
    "\n",
    "Ans. A return value is used to end the function call and tennis returns the result. Like any value, a return value can be used as part of an expression. ex:\n"
   ]
  },
  {
   "cell_type": "code",
   "execution_count": 30,
   "id": "47ab8ca9",
   "metadata": {},
   "outputs": [],
   "source": [
    "def test2(a,b):\n",
    "    c= a*b\n",
    "    d=a+b\n",
    "    return c,d\n"
   ]
  },
  {
   "cell_type": "code",
   "execution_count": 31,
   "id": "905c33bf",
   "metadata": {},
   "outputs": [
    {
     "data": {
      "text/plain": [
       "(30, 11)"
      ]
     },
     "execution_count": 31,
     "metadata": {},
     "output_type": "execute_result"
    }
   ],
   "source": [
    "test2(5,6)"
   ]
  },
  {
   "cell_type": "markdown",
   "id": "d79338ab",
   "metadata": {},
   "source": [
    "Q.8. If a function does not have a return statement, what is the return value of a call to that function?\n",
    "\n",
    "Ans. if therev is no return statement then the end result of the called function reamkns unidentified. because if the return statement is not there, control automatically returns the calling function."
   ]
  },
  {
   "cell_type": "markdown",
   "id": "96e1977f",
   "metadata": {},
   "source": [
    "Q.9. How do you make a function variable refer to the global variable?\n",
    "\n",
    "Ans. if we want to make a function variable refer to global variable, we have to use 'global' as keyword before that variable."
   ]
  },
  {
   "cell_type": "code",
   "execution_count": 38,
   "id": "7697d69f",
   "metadata": {},
   "outputs": [],
   "source": [
    "def test3():\n",
    "    global s\n",
    "    s= ' Bhuvnesh'\n"
   ]
  },
  {
   "cell_type": "code",
   "execution_count": 39,
   "id": "925355e6",
   "metadata": {},
   "outputs": [
    {
     "name": "stdout",
     "output_type": "stream",
     "text": [
      "Kumar Bhuvnesh\n"
     ]
    }
   ],
   "source": [
    "test3()\n",
    "print('Kumar'+s)"
   ]
  },
  {
   "cell_type": "markdown",
   "id": "a5d73456",
   "metadata": {},
   "source": [
    "Q.10. What is the data type of None?\n",
    "\n",
    "Ans. The data type of None is NoneType."
   ]
  },
  {
   "cell_type": "code",
   "execution_count": 43,
   "id": "5687287a",
   "metadata": {},
   "outputs": [
    {
     "name": "stdout",
     "output_type": "stream",
     "text": [
      "<class 'NoneType'>\n"
     ]
    }
   ],
   "source": [
    "x= None\n",
    "print(type(x))"
   ]
  },
  {
   "cell_type": "markdown",
   "id": "ac8eb6fb",
   "metadata": {},
   "source": [
    "Q.11. What does the sentence import areallyourpetsnamederic do?\n",
    "\n",
    " Ans. import areallyourpetsnamederic will import areallyourpetsnamederic module. "
   ]
  },
  {
   "cell_type": "code",
   "execution_count": 49,
   "id": "3880922a",
   "metadata": {},
   "outputs": [
    {
     "ename": "SyntaxError",
     "evalue": "invalid syntax (Temp/ipykernel_2532/2011544381.py, line 1)",
     "output_type": "error",
     "traceback": [
      "\u001b[1;36m  File \u001b[1;32m\"C:\\Users\\User\\AppData\\Local\\Temp/ipykernel_2532/2011544381.py\"\u001b[1;36m, line \u001b[1;32m1\u001b[0m\n\u001b[1;33m    import.areallyourpetsnamederic\u001b[0m\n\u001b[1;37m          ^\u001b[0m\n\u001b[1;31mSyntaxError\u001b[0m\u001b[1;31m:\u001b[0m invalid syntax\n"
     ]
    }
   ],
   "source": [
    "import areallyourpetsnamederic"
   ]
  },
  {
   "cell_type": "markdown",
   "id": "4366b523",
   "metadata": {},
   "source": [
    "Q.12. If you had a bacon() feature in a spam module, what would you call it after importing spam?\n",
    "\n",
    "Ans. this function can be called by spam.bacon()\n",
    "\n"
   ]
  },
  {
   "cell_type": "markdown",
   "id": "99c0524c",
   "metadata": {},
   "source": [
    "Q.13. What can you do to save a programme from crashing if it encounters an error?\n",
    "\n",
    "If there is a chance of getting an error and crashing of the program, then the program should be placed under try-exception blocks"
   ]
  },
  {
   "cell_type": "markdown",
   "id": "0cb0b327",
   "metadata": {},
   "source": [
    "Q.14. What is the purpose of the try clause? What is the purpose of the except clause?\n",
    "\n",
    "Ans. Aprogram that can face error should be placed in try block and  except block will help in handling the error. so after error occur in try program block, program in except block will run"
   ]
  }
 ],
 "metadata": {
  "kernelspec": {
   "display_name": "Python 3 (ipykernel)",
   "language": "python",
   "name": "python3"
  },
  "language_info": {
   "codemirror_mode": {
    "name": "ipython",
    "version": 3
   },
   "file_extension": ".py",
   "mimetype": "text/x-python",
   "name": "python",
   "nbconvert_exporter": "python",
   "pygments_lexer": "ipython3",
   "version": "3.9.7"
  }
 },
 "nbformat": 4,
 "nbformat_minor": 5
}
